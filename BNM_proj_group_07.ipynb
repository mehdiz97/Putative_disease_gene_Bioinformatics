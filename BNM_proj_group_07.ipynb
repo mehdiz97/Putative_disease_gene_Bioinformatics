{
 "cells": [
  {
   "cell_type": "markdown",
   "id": "b0432d93",
   "metadata": {},
   "source": [
    "# BIOINFORMATICS AND NETWORK MEDICINE\n",
    "\n",
    "# Putative disease gene identification and drug repurposing for Ciliopathies \n"
   ]
  },
  {
   "cell_type": "markdown",
   "id": "70d9eed4",
   "metadata": {},
   "source": [
    "### Mohamamdmehdi Razavi - Razavi.2023856@studenti.uniroma1.it\n",
    "### Ousainou Panneh - panneh.1847923@studenti.uniroma1.it\n",
    "### Jinjia Qian - qian.2047931@studenti.uniroma1.it\n"
   ]
  },
  {
   "cell_type": "markdown",
   "id": "1d1bb374",
   "metadata": {},
   "source": [
    "# Part 1:PPI and GDA data gathering and interactome reconstruction\n",
    "\n",
    "\n",
    "## part 1.1:Download PPIs from BioGRID latest release to build the human interactome\n"
   ]
  },
  {
   "cell_type": "code",
   "execution_count": 6,
   "id": "ba27ce62",
   "metadata": {},
   "outputs": [
    {
     "name": "stderr",
     "output_type": "stream",
     "text": [
      "C:\\Users\\mehdi\\AppData\\Local\\Temp\\ipykernel_14704\\226573121.py:9: DtypeWarning: Columns (1,2,18) have mixed types. Specify dtype option on import or set low_memory=False.\n",
      "  biogrid_df = pd.read_csv(path , delimiter='\\t')\n"
     ]
    },
    {
     "name": "stdout",
     "output_type": "stream",
     "text": [
      "822762\n"
     ]
    }
   ],
   "source": [
    "import pandas as pd\n",
    "import networkx as nx\n",
    "from urllib.request import urlretrieve\n",
    "import zipfile\n",
    "import os\n",
    "\n",
    "# Load the data into a DataFrame\n",
    "path = r'C:\\Users\\mehdi\\Desktop\\Untitled Folder\\Data\\BIOGRID_ALL_tab3.txt'\n",
    "biogrid_df = pd.read_csv(path , delimiter='\\t')\n",
    "\n",
    "# Filter for Homo sapiens interactions\n",
    "biogrid_df = biogrid_df[(biogrid_df['Organism ID Interactor A'] == 9606) & \n",
    "                        (biogrid_df['Organism ID Interactor B'] == 9606)]\n",
    "\n",
    "# Keep only physical interactions\n",
    "biogrid_df = biogrid_df[biogrid_df['Experimental System Type'] == 'physical']\n",
    "\n",
    "# Remove self-loops and duplicates\n",
    "biogrid_df = biogrid_df[biogrid_df['BioGRID ID Interactor A'] != biogrid_df['BioGRID ID Interactor B']]\n",
    "biogrid_df = biogrid_df.drop_duplicates(subset=['BioGRID ID Interactor A', 'BioGRID ID Interactor B'])\n",
    "\n",
    "# Build the network\n",
    "G = nx.from_pandas_edgelist(biogrid_df, 'Official Symbol Interactor A', 'Official Symbol Interactor B')\n",
    "\n",
    "# Isolate the largest connected component (LCC)\n",
    "largest_cc = max(nx.connected_components(G), key=len)\n",
    "G_lcc = G.subgraph(largest_cc).copy()\n",
    "\n",
    "# Save the largest connected component for further analysis\n",
    "nx.write_edgelist(G, \"largest_connected_component.edgelist\", delimiter='\\t')\n",
    "print(G_lcc.size())\n"
   ]
  },
  {
   "cell_type": "markdown",
   "id": "f4294f64",
   "metadata": {},
   "source": [
    "## part 1.2: Gather gene-disease associations (GDAs) data from DisGeNET \n"
   ]
  },
  {
   "cell_type": "code",
   "execution_count": 7,
   "id": "3de904b4",
   "metadata": {},
   "outputs": [],
   "source": [
    "import pandas as pd\n",
    "\n",
    "# Path to the GDA Excel file\n",
    "gda_file_path = r\"C:\\Users\\mehdi\\Desktop\\Untitled Folder\\Data\\C4277690_disease_gda_summary_CURATED.xlsx\"\n",
    "\n",
    "# Read the GDA data\n",
    "gda_df = pd.read_excel(gda_file_path)\n",
    "gda_df.to_csv(\"cleaned_gda_data.csv\", index=False)"
   ]
  },
  {
   "cell_type": "markdown",
   "id": "95f98cbd",
   "metadata": {},
   "source": [
    "## part 1.3 : Compute and characterize the disease LCC and its basic network measures\n",
    "\n"
   ]
  },
  {
   "cell_type": "code",
   "execution_count": 8,
   "id": "b7a81039",
   "metadata": {},
   "outputs": [
    {
     "name": "stdout",
     "output_type": "stream",
     "text": [
      "Number of associated genes:\n",
      "110\n",
      "The number of genes present in the interactome:\n",
      "104\n",
      "LCC size of the disease interactome(total number of edges):\n",
      "120\n"
     ]
    },
    {
     "data": {
      "image/png": "[encoded data removed]",
      "text/plain": [
       "<Figure size 432x288 with 1 Axes>"
      ]
     },
     "metadata": {
      "needs_background": "light"
     },
     "output_type": "display_data"
    }
   ],
   "source": [
    "import pandas as pd\n",
    "import networkx as nx\n",
    "import matplotlib.pyplot as plt\n",
    "\n",
    "# Load the interactome data (LCC from point 1.1)\n",
    "G = nx.read_edgelist(\"largest_connected_component.edgelist\")\n",
    "\n",
    "# Load the GDA data (assuming you have a column for gene names)\n",
    "gda_df = pd.read_csv(\"cleaned_gda_data.csv\")\n",
    "print(\"Number of associated genes:\")\n",
    "print(len(gda_df.Gene))\n",
    "disease_genes = set(gda_df['Gene'])\n",
    "\n",
    "# Create subgraph with disease genes\n",
    "disease_interactome = G.subgraph(disease_genes)\n",
    "\n",
    "print(\"The number of genes present in the interactome:\")\n",
    "print(len(disease_interactome.nodes()))\n",
    "\n",
    "# Identify the disease LCC\n",
    "largest_cc = max(nx.connected_components(disease_interactome), key=len)\n",
    "disease_lcc = disease_interactome.subgraph(largest_cc).copy()\n",
    "print(\"LCC size of the disease interactome(total number of edges):\")\n",
    "print(disease_lcc.size())\n",
    "# Compute network metrics\n",
    "degree = dict(disease_lcc.degree())\n",
    "betweenness = nx.betweenness_centrality(disease_lcc)\n",
    "eigenvector = nx.eigenvector_centrality(disease_lcc, max_iter=500)\n",
    "closeness = nx.closeness_centrality(disease_lcc)\n",
    "ratio_betw_deg = {node: betweenness[node]/degree[node] for node in disease_lcc.nodes}\n",
    "\n",
    "# Create DataFrame for metrics\n",
    "metrics_df = pd.DataFrame({\n",
    "    'Gene Name': list(degree.keys()),\n",
    "    'Degree': list(degree.values()),\n",
    "    'Betweenness': list(betweenness.values()),\n",
    "    'Eigenvector Centrality': list(eigenvector.values()),\n",
    "    'Closeness Centrality': list(closeness.values()),\n",
    "    'Ratio Betweenness/Degree': list(ratio_betw_deg.values())\n",
    "})\n",
    "\n",
    "# Sort by Degree and select top 50 genes\n",
    "top_50_genes = metrics_df.sort_values('Degree', ascending=False).head(50)\n",
    "\n",
    "# Table 2: Main network metrics of disease LCC genes\n",
    "top_50_genes.to_csv('top_50_disease_genes_metrics.csv', index=False)\n",
    "\n",
    "# Scatterplot of Node Degree vs. Betweenness\n",
    "plt.scatter(metrics_df['Degree'], metrics_df['Betweenness'])\n",
    "plt.xlabel('Node Degree')\n",
    "plt.ylabel('Betweenness Centrality')\n",
    "plt.title('Node Degree vs. Betweenness Centrality in Disease LCC')\n",
    "plt.savefig('degree_betweenness_scatterplot.png')\n",
    "plt.show()\n"
   ]
  },
  {
   "cell_type": "code",
   "execution_count": 9,
   "id": "5ea5f58b",
   "metadata": {},
   "outputs": [],
   "source": [
    "gda_df.Gene.to_csv(\"seed.txt\", sep=\",\", index = False, header = False)\n",
    "# Create the total ppi .txt and .tsv\n",
    "totalPpi = biogrid_df[[\"Official Symbol Interactor A\" , \"Official Symbol Interactor B\"]]\n",
    "totalPpi = totalPpi.rename(columns={'Official Symbol Interactor A': 'Gene1', 'Official Symbol Interactor B': 'Gene2'})\n",
    "totalPpi.to_csv(\"totalPpi.tsv\", sep=\"\\t\", index=False)\n",
    "totalPpi.to_csv(\"totalppi.txt\", sep=\",\", index=False,header=False)\n"
   ]
  },
  {
   "cell_type": "markdown",
   "id": "3fd68595",
   "metadata": {},
   "source": [
    "# part 2:Comparative analysis of the disease genes identification algorithms\n",
    "\n",
    "\n",
    "## 2.1: Use the following algorithms to infer and validate (point 2.2) putative disease genes:"
   ]
  },
  {
   "cell_type": "code",
   "execution_count": 100,
   "id": "475bd755",
   "metadata": {
    "scrolled": true
   },
   "outputs": [
    {
     "name": "stdout",
     "output_type": "stream",
     "text": [
      "DIAMOnD(): ignoring 6 of 110 seed genes that are not in the network\n",
      "\n",
      " results have been saved to 'Disease_DIAMOND.txt' \n",
      "\n"
     ]
    }
   ],
   "source": [
    "\n",
    "# Assuming 'seed_genes' is your list of known disease genes and 'network' is your interactome network\n",
    "# You may need to adjust these parameters according to your data format and the DIAMOnD documentation\n",
    "\n",
    "!python  DIAMOnD.py  totalppi.txt  seed.txt  100 Disease_DIAMOND.txt\n"
   ]
  },
  {
   "cell_type": "code",
   "execution_count": 101,
   "id": "ff45eeeb",
   "metadata": {},
   "outputs": [
    {
     "name": "stdout",
     "output_type": "stream",
     "text": [
      "    #rank DIAMOnD_node       p_hyper\n",
      "50     51        CEP72  8.186954e-29\n",
      "48     49         POC5  9.318644e-29\n",
      "49     50        KRT19  2.696095e-28\n",
      "59     60      FAM184A  5.820018e-28\n",
      "47     48        HAUS1  7.641349e-28\n",
      "..    ...          ...           ...\n",
      "5       6         PCM1  8.233135e-09\n",
      "1       2       UNC45A  1.174886e-08\n",
      "2       3        HAUS8  1.864072e-08\n",
      "3       4       DNAJC7  2.535113e-08\n",
      "4       5      GPATCH1  4.886438e-08\n",
      "\n",
      "[100 rows x 3 columns]\n"
     ]
    }
   ],
   "source": [
    "test = pd.read_csv(\"Disease_DIAMOND.txt\", sep = '\\t')\n",
    "print(test.sort_values(by=['p_hyper']))"
   ]
  },
  {
   "cell_type": "code",
   "execution_count": 102,
   "id": "ecd5d18f",
   "metadata": {},
   "outputs": [
    {
     "name": "stdout",
     "output_type": "stream",
     "text": [
      "DIAMOnD(): ignoring 6 of 110 seed genes that are not in the network\n",
      "\n",
      " results have been saved to 'Disease_DIABLE.txt' \n",
      "\n"
     ]
    }
   ],
   "source": [
    "!python  DIABLE.py  totalppi.txt  seed.txt  100 Disease_DIABLE.txt\n"
   ]
  },
  {
   "cell_type": "code",
   "execution_count": 103,
   "id": "14e13b19",
   "metadata": {},
   "outputs": [
    {
     "name": "stdout",
     "output_type": "stream",
     "text": [
      "    #rank DIAMOnD_node       p_hyper\n",
      "48     49         POC5  1.948972e-28\n",
      "49     50        KRT19  7.105536e-28\n",
      "47     48        HAUS1  1.794255e-27\n",
      "41     42        CENPJ  1.020523e-26\n",
      "46     47        HAUS5  1.490605e-26\n",
      "44     45         PCNT  5.720664e-26\n",
      "40     41         TCHP  7.144361e-26\n",
      "45     46        KRT18  8.838928e-26\n",
      "33     34       CCDC66  1.000844e-25\n",
      "43     44     MPHOSPH9  1.525532e-25\n",
      "42     43         NINL  2.250423e-25\n",
      "35     36         MIB1  3.643835e-25\n",
      "36     37       WRAP73  7.371813e-25\n",
      "34     35       CCDC77  1.187710e-24\n",
      "39     40       CEP152  1.640614e-24\n",
      "38     39        HAUS2  1.815276e-24\n",
      "32     33         MED4  1.026015e-23\n",
      "31     32        CEP63  1.714299e-23\n",
      "37     38       CEP170  1.890532e-23\n",
      "30     31       SPICE1  2.694632e-22\n",
      "29     30        NDC80  2.729965e-21\n",
      "27     28       CEP131  8.489970e-21\n",
      "28     29        PIBF1  1.131382e-20\n",
      "26     27      FGFR1OP  5.764510e-20\n",
      "25     26       CCDC14  3.027988e-19\n",
      "23     24        HAUS7  3.531333e-19\n",
      "24     25        SASS6  5.099645e-19\n",
      "22     23          NIN  6.131104e-18\n",
      "21     22        HAUS4  4.835380e-17\n",
      "20     21       CEP135  3.307208e-16\n",
      "19     20        HAUS6  2.209487e-15\n",
      "16     17      CCDC138  1.718430e-14\n",
      "18     19         ODF2  2.994653e-14\n",
      "17     18        HAUS3  3.340727e-14\n",
      "14     15        CSPP1  3.015653e-13\n",
      "15     16        CNTRL  3.460629e-13\n",
      "13     14       SSX2IP  1.626048e-12\n",
      "12     13        CEP89  2.725905e-12\n",
      "11     12      TBC1D31  8.156317e-12\n",
      "10     11       CEP120  2.788270e-11\n",
      "9      10     KIAA0753  1.425664e-10\n",
      "8       9        WDR83  8.583906e-10\n",
      "7       8       CEP128  1.280059e-09\n",
      "6       7       CEP162  2.140812e-09\n",
      "0       1       LZTFL1  5.884893e-09\n",
      "5       6         PCM1  1.266553e-08\n",
      "1       2       UNC45A  1.636760e-08\n",
      "2       3        HAUS8  2.460850e-08\n",
      "3       4       DNAJC7  3.789900e-08\n",
      "4       5      GPATCH1  6.265753e-08\n"
     ]
    }
   ],
   "source": [
    "test = pd.read_csv(\"Disease_DIABLE.txt\", sep = '\\t')\n",
    "print(test.sort_values(by=['p_hyper']))"
   ]
  },
  {
   "cell_type": "markdown",
   "id": "78f269c6",
   "metadata": {},
   "source": [
    "## part 2.2: Computational validation\n",
    "\n"
   ]
  },
  {
   "cell_type": "code",
   "execution_count": 16,
   "id": "0056e5ba",
   "metadata": {
    "scrolled": false
   },
   "outputs": [
    {
     "name": "stdout",
     "output_type": "stream",
     "text": [
      "DIAMOnD(): ignoring 5 of 88 seed genes that are not in the network\n",
      "\n",
      " results have been saved to 'output' \n",
      "\n",
      "DIAMOnD(): ignoring 5 of 88 seed genes that are not in the network\n",
      "\n",
      " results have been saved to 'output' \n",
      "\n",
      "DIAMOnD(): ignoring 3 of 88 seed genes that are not in the network\n",
      "\n",
      " results have been saved to 'output' \n",
      "\n",
      "DIAMOnD(): ignoring 5 of 88 seed genes that are not in the network\n",
      "\n",
      " results have been saved to 'output' \n",
      "\n",
      "DIAMOnD(): ignoring 6 of 88 seed genes that are not in the network\n",
      "\n",
      " results have been saved to 'output' \n",
      "\n",
      "all percisions for k = 1:5 and top_k = 50, n/10 , n/4, n/2, n are:\n",
      "[0.02, 0.09090909090909091, 0.037037037037037035, 0.01818181818181818, 0.01, 0.1, 0.2727272727272727, 0.18518518518518517, 0.09090909090909091, 0.05, 0.08, 0.2727272727272727, 0.14814814814814814, 0.07272727272727272, 0.04, 0.0, 0.0, 0.0, 0.0, 0.0, 0.06, 0.2727272727272727, 0.1111111111111111, 0.07272727272727272, 0.04]\n",
      "all recalls for k = 1:5 and top_k = 50, n/10 , n/4, n/2, n are:\n",
      "[0.045454545454545456, 0.045454545454545456, 0.045454545454545456, 0.045454545454545456, 0.045454545454545456, 0.22727272727272727, 0.13636363636363635, 0.22727272727272727, 0.22727272727272727, 0.22727272727272727, 0.18181818181818182, 0.13636363636363635, 0.18181818181818182, 0.18181818181818182, 0.18181818181818182, 0.0, 0.0, 0.0, 0.0, 0.0, 0.13636363636363635, 0.13636363636363635, 0.13636363636363635, 0.18181818181818182, 0.18181818181818182]\n",
      "all f1_scores for k = 1:5 and top_k = 50, n/10 , n/4, n/2, n are:\n",
      "[0.027777777777777776, 0.060606060606060615, 0.04081632653061224, 0.025974025974025976, 0.016393442622950817, 0.1388888888888889, 0.1818181818181818, 0.20408163265306123, 0.12987012987012989, 0.08196721311475409, 0.1111111111111111, 0.1818181818181818, 0.16326530612244897, 0.1038961038961039, 0.06557377049180327, 0, 0, 0, 0, 0, 0.08333333333333333, 0.1818181818181818, 0.12244897959183673, 0.1038961038961039, 0.06557377049180327]\n",
      "average Precision: 0.08 ± 0.08\n",
      "average Recall: 0.12 ± 0.08\n",
      "average F1 Score: 0.08 ± 0.07\n"
     ]
    }
   ],
   "source": [
    "from sklearn.model_selection import KFold\n",
    "from sklearn.metrics import precision_score, recall_score, f1_score\n",
    "import numpy as np\n",
    "\n",
    "# Assuming 'disease_genes' is your list of known disease genes (GDAs)\n",
    "disease_genes = np.array(gda_df.Gene)  # Convert to NumPy array for easier manipulation\n",
    "n = len(disease_genes)\n",
    "\n",
    "# Define function to run your chosen algorithm (replace with actual function call)\n",
    "def run_algorithm(training_set, i):\n",
    "    # Run your algorithm here and return the predicted genes\n",
    "    # For example: return diamond.run_diamond(network, training_set, ...)\n",
    "    df = pd.DataFrame(training_set)\n",
    "    df.to_csv(\"seed.txt\", sep=\",\", index=False,header=False)\n",
    "    output = \"Disease_DIAMOND_fold{}.txt\".format(i)\n",
    "    !python  DIAMOnD.py  totalppi.txt  seed.txt  100 output\n",
    "    pass\n",
    "\n",
    "# Initialize lists to store metrics\n",
    "precisions = []\n",
    "recalls = []\n",
    "f1_scores = []\n",
    "\n",
    "kf = KFold(n_splits=5, shuffle=True, random_state=42)\n",
    "i = 0\n",
    "for train_index, test_index in kf.split(disease_genes):\n",
    "    ST = disease_genes[train_index]  # Training set\n",
    "    SP = disease_genes[test_index]  # Probe set (test set)\n",
    "\n",
    "    run_algorithm(ST, i)\n",
    "    predicted_genes = pd.read_csv(\"output\" , delimiter='\\t').DIAMOnD_node\n",
    "    i += 1\n",
    "    # Evaluate performance for top 50 and other specified positions\n",
    "    for top_k in [50, int((1/10) * n), int((1/4) * n), int((1/2) * n), n]:\n",
    "        top_predicted = set(predicted_genes[:top_k])\n",
    "        true_positives = top_predicted.intersection(SP)\n",
    "\n",
    "        precision = len(true_positives) / len(top_predicted)\n",
    "        recall = len(true_positives) / len(SP)\n",
    "        f1 = 2 * (precision * recall) / (precision + recall) if (precision + recall) > 0 else 0\n",
    "\n",
    "        precisions.append(precision)\n",
    "        recalls.append(recall)\n",
    "        f1_scores.append(f1)\n",
    "\n",
    "# Calculate average and standard deviation for each metric\n",
    "avg_precision = np.mean(precisions)\n",
    "sd_precision = np.std(precisions)\n",
    "avg_recall = np.mean(recalls)\n",
    "sd_recall = np.std(recalls)\n",
    "avg_f1 = np.mean(f1_scores)\n",
    "sd_f1 = np.std(f1_scores)\n",
    "\n",
    "print(\"all percisions for k = 1:5 and top_k = 50, n/10 , n/4, n/2, n are:\")\n",
    "print(precisions)\n",
    "\n",
    "print(\"all recalls for k = 1:5 and top_k = 50, n/10 , n/4, n/2, n are:\")\n",
    "print(recalls)\n",
    "\n",
    "print(\"all f1_scores for k = 1:5 and top_k = 50, n/10 , n/4, n/2, n are:\")\n",
    "print(f1_scores)\n",
    "\n",
    "print(f\"average Precision: {avg_precision:.2f} ± {sd_precision:.2f}\")\n",
    "print(f\"average Recall: {avg_recall:.2f} ± {sd_recall:.2f}\")\n",
    "print(f\"average F1 Score: {avg_f1:.2f} ± {sd_f1:.2f}\")\n"
   ]
  },
  {
   "cell_type": "markdown",
   "id": "61418d30",
   "metadata": {},
   "source": [
    "### Diable\n"
   ]
  },
  {
   "cell_type": "code",
   "execution_count": 19,
   "id": "b60970e6",
   "metadata": {
    "scrolled": true
   },
   "outputs": [
    {
     "name": "stdout",
     "output_type": "stream",
     "text": [
      "DIAMOnD(): ignoring 5 of 88 seed genes that are not in the network\n",
      "\n",
      " results have been saved to 'output2' \n",
      "\n",
      "DIAMOnD(): ignoring 5 of 88 seed genes that are not in the network\n",
      "\n",
      " results have been saved to 'output2' \n",
      "\n",
      "DIAMOnD(): ignoring 3 of 88 seed genes that are not in the network\n",
      "\n",
      " results have been saved to 'output2' \n",
      "\n",
      "DIAMOnD(): ignoring 5 of 88 seed genes that are not in the network\n",
      "\n",
      " results have been saved to 'output2' \n",
      "\n",
      "DIAMOnD(): ignoring 6 of 88 seed genes that are not in the network\n",
      "\n",
      " results have been saved to 'output2' \n",
      "\n",
      "all percisions for k = 1:5 and top_k = 50, n/10 , n/4, n/2, n are:\n",
      "[0.0, 0.0, 0.0, 0.0, 0.0, 0.0, 0.0, 0.0, 0.0, 0.0, 0.0, 0.0, 0.0, 0.0, 0.0, 0.0, 0.0, 0.0, 0.0, 0.0, 0.06, 0.2727272727272727, 0.1111111111111111, 0.07272727272727272, 0.04]\n",
      "all recalls for k = 1:5 and top_k = 50, n/10 , n/4, n/2, n are:\n",
      "[0.0, 0.0, 0.0, 0.0, 0.0, 0.0, 0.0, 0.0, 0.0, 0.0, 0.0, 0.0, 0.0, 0.0, 0.0, 0.0, 0.0, 0.0, 0.0, 0.0, 0.13636363636363635, 0.13636363636363635, 0.13636363636363635, 0.18181818181818182, 0.18181818181818182]\n",
      "all f1_scores for k = 1:5 and top_k = 50, n/10 , n/4, n/2, n are:\n",
      "[0, 0, 0, 0, 0, 0, 0, 0, 0, 0, 0, 0, 0, 0, 0, 0, 0, 0, 0, 0, 0.08333333333333333, 0.1818181818181818, 0.12244897959183673, 0.1038961038961039, 0.06557377049180327]\n",
      "average Precision: 0.02 ± 0.06\n",
      "average Recall: 0.03 ± 0.06\n",
      "average F1 Score: 0.02 ± 0.05\n"
     ]
    }
   ],
   "source": [
    "from sklearn.model_selection import KFold\n",
    "from sklearn.metrics import precision_score, recall_score, f1_score\n",
    "import numpy as np\n",
    "\n",
    "# Assuming 'disease_genes' is your list of known disease genes (GDAs)\n",
    "disease_genes = np.array(gda_df.Gene)  # Convert to NumPy array for easier manipulation\n",
    "n = len(disease_genes)\n",
    "\n",
    "# Define function to run your chosen algorithm (replace with actual function call)\n",
    "def run_algorithm(training_set, i):\n",
    "    # Run your algorithm here and return the predicted genes\n",
    "    # For example: return diamond.run_diamond(network, training_set, ...)\n",
    "    df = pd.DataFrame(training_set)\n",
    "    df.to_csv(\"seed.txt\", sep=\",\", index=False,header=False)\n",
    "    !python  DIABLE.py  totalppi.txt  seed.txt  100 output2\n",
    "    pass\n",
    "\n",
    "# Initialize lists to store metrics\n",
    "precisions = []\n",
    "recalls = []\n",
    "f1_scores = []\n",
    "\n",
    "kf = KFold(n_splits=5, shuffle=True, random_state=42)\n",
    "i = 0\n",
    "for train_index, test_index in kf.split(disease_genes):\n",
    "    ST = disease_genes[train_index]  # Training set\n",
    "    SP = disease_genes[test_index]  # Probe set (test set)\n",
    "\n",
    "    run_algorithm(ST, i)\n",
    "    predicted_genes = pd.read_csv(\"output\" , delimiter='\\t').DIAMOnD_node\n",
    "    i += 1\n",
    "    # Evaluate performance for top 50 and other specified positions\n",
    "    for top_k in [50, int((1/10) * n), int((1/4) * n), int((1/2) * n), n]:\n",
    "        top_predicted = set(predicted_genes[:top_k])\n",
    "        true_positives = top_predicted.intersection(SP)\n",
    "\n",
    "        precision = len(true_positives) / len(top_predicted)\n",
    "        recall = len(true_positives) / len(SP)\n",
    "        f1 = 2 * (precision * recall) / (precision + recall) if (precision + recall) > 0 else 0\n",
    "\n",
    "        precisions.append(precision)\n",
    "        recalls.append(recall)\n",
    "        f1_scores.append(f1)\n",
    "\n",
    "# Calculate average and standard deviation for each metric\n",
    "avg_precision = np.mean(precisions)\n",
    "sd_precision = np.std(precisions)\n",
    "avg_recall = np.mean(recalls)\n",
    "sd_recall = np.std(recalls)\n",
    "avg_f1 = np.mean(f1_scores)\n",
    "sd_f1 = np.std(f1_scores)\n",
    "\n",
    "print(\"all percisions for k = 1:5 and top_k = 50, n/10 , n/4, n/2, n are:\")\n",
    "print(precisions)\n",
    "\n",
    "print(\"all recalls for k = 1:5 and top_k = 50, n/10 , n/4, n/2, n are:\")\n",
    "print(recalls)\n",
    "\n",
    "print(\"all f1_scores for k = 1:5 and top_k = 50, n/10 , n/4, n/2, n are:\")\n",
    "print(f1_scores)\n",
    "\n",
    "print(f\"average Precision: {avg_precision:.2f} ± {sd_precision:.2f}\")\n",
    "print(f\"average Recall: {avg_recall:.2f} ± {sd_recall:.2f}\")\n",
    "print(f\"average F1 Score: {avg_f1:.2f} ± {sd_f1:.2f}\")\n"
   ]
  },
  {
   "cell_type": "markdown",
   "id": "1d770d5e",
   "metadata": {},
   "source": [
    "# part3:Putative disease gene identification\n",
    "\n",
    "\n",
    "\n",
    "## Part 3.1:"
   ]
  },
  {
   "cell_type": "code",
   "execution_count": 26,
   "id": "2e337d27",
   "metadata": {},
   "outputs": [
    {
     "name": "stdout",
     "output_type": "stream",
     "text": [
      "DIAMOnD(): ignoring 6 of 110 seed genes that are not in the network\n",
      "\n",
      " results have been saved to 'output_best' \n",
      "\n",
      "Top 100 putative disease genes have been identified and saved.\n"
     ]
    }
   ],
   "source": [
    "# Assuming you have a function for your best-performing algorithm\n",
    "# For example, let's say it's the DIAMOnD algorithm. Replace this with your actual function.\n",
    "def best_performing_algorithm(seed_genes):\n",
    "    # Run your algorithm here and return the predicted genes\n",
    "    # For example: return diamond.run_diamond(network, training_set, ...)\n",
    "    df = pd.DataFrame(seed_genes)\n",
    "    df.to_csv(\"seed.txt\", sep=\",\", index=False,header=False)\n",
    "    !python  DIAMOnD.py  totalppi.txt  seed.txt  100 output_best\n",
    "    pass\n",
    "\n",
    "# Assuming 'all_known_gdas' is your list of all known GDAs\n",
    "seed_genes = np.array(gda_df.Gene)\n",
    "\n",
    "# Run the algorithm\n",
    "predicted_putative_genes = best_performing_algorithm(seed_genes)\n",
    "df = pd.read_csv(\"output_best\", sep = '\\t')\n",
    "top_gene = df.DIAMOnD_node\n",
    "top_gene.to_csv(\"top_gene.txt\", sep=\",\", index=False,header=False)\n",
    "print(\"Top 100 putative disease genes have been identified and saved.\")\n"
   ]
  },
  {
   "cell_type": "markdown",
   "id": "f020257d",
   "metadata": {},
   "source": [
    "\n",
    "\n",
    "## part 3.2: Enrichment analysis\n"
   ]
  },
  {
   "cell_type": "code",
   "execution_count": 27,
   "id": "c9c06ab6",
   "metadata": {},
   "outputs": [],
   "source": [
    "# Path to the GDA Excel file\n",
    "gda_file_path = r\"C:\\Users\\mehdi\\Desktop\\Untitled Folder\\Data\\C4277690_disease_gda_summary_CURATED.xlsx\"\n",
    "\n",
    "# Read the GDA data\n",
    "gda_df = pd.read_excel(gda_file_path)\n",
    "gda_df.Gene.to_csv(\"all_gene.txt\", sep=\",\", index=False,header=False)\n"
   ]
  },
  {
   "cell_type": "markdown",
   "id": "6208533d",
   "metadata": {},
   "source": [
    "# Part 4: Drug repurposing\n",
    "\n",
    "\n",
    "## Part 4.1: Drug identification\n"
   ]
  },
  {
   "cell_type": "code",
   "execution_count": null,
   "id": "5cb8bc15",
   "metadata": {},
   "outputs": [],
   "source": []
  },
  {
   "cell_type": "markdown",
   "id": "a666135f",
   "metadata": {},
   "source": [
    "## Part 4.2: Clinical Trials validation"
   ]
  },
  {
   "cell_type": "markdown",
   "id": "963fe2e2",
   "metadata": {},
   "source": [
    "# Part 5 : Optional Task\n",
    "\n"
   ]
  },
  {
   "cell_type": "code",
   "execution_count": 76,
   "id": "5b0f5ac7",
   "metadata": {},
   "outputs": [],
   "source": [
    "import markov_clustering as mc\n",
    "import networkx as nx\n",
    "import random\n",
    "from datetime import datetime\n",
    "\n",
    "# Assuming 'lcc_edges_file' contains the edges of the LCC\n",
    "G = nx.read_edgelist(\"largest_connected_component.edgelist\")"
   ]
  },
  {
   "cell_type": "markdown",
   "id": "d2173b29",
   "metadata": {},
   "source": [
    "### Find all communities in the human interactome (LCC) with MCL"
   ]
  },
  {
   "cell_type": "code",
   "execution_count": 80,
   "id": "e3154300",
   "metadata": {},
   "outputs": [
    {
     "name": "stdout",
     "output_type": "stream",
     "text": [
      "Elapsed time:1:10:55.956601\n",
      "Elapsed time:0:53:33.073668\n",
      "Elapsed time:0:55:05.922628\n",
      "Elapsed time:0:56:35.993539\n",
      "Elapsed time:0:54:19.067377\n",
      "Elapsed time:0:55:13.553476\n"
     ]
    }
   ],
   "source": [
    "\n",
    "def run_mcl(graph, inflation):\n",
    "    start_time = datetime.now()\n",
    "    # Alternative MCL implementation using networkx\n",
    "    matrix= matrix = nx.to_numpy_array(graph)\n",
    "    result = mc.run_mcl(matrix, inflation = inflation)           # run MCL with default parameters\n",
    "    clusters = mc.get_clusters(result)\n",
    "    index_to_label = {index: label for index, label in enumerate(graph.nodes())}\n",
    "    # Use the mapping to convert cluster indices to original node labels\n",
    "    communities = {i: [index_to_label[node] for node in cluster] for i, cluster in enumerate(clusters)}\n",
    "    end_time = datetime.now()\n",
    "    print ( 'Elapsed time:' + str(end_time - start_time))\n",
    "    return communities\n",
    "\n",
    "# Run MCL with different inflation values\n",
    "inflation_values = [1.8, 1.9, 2.0, 2.1, 2.2, 2.3]\n",
    "# inflation_values = [1.8]\n",
    "mcl_clusters = {inflation: run_mcl(G, inflation) for inflation in inflation_values}\n"
   ]
  },
  {
   "cell_type": "code",
   "execution_count": 83,
   "id": "304fa810",
   "metadata": {},
   "outputs": [],
   "source": [
    "import networkx as nx\n",
    "import community as community_louvain\n",
    "\n",
    "def detect_communities_louvain(interactome_graph):\n",
    "    # Apply the Louvain algorithm\n",
    "    partition = community_louvain.best_partition(interactome_graph, resolution=1)\n",
    "    communities = {}\n",
    "    for node, community_id in partition.items():\n",
    "        communities.setdefault(community_id, []).append(node)\n",
    "    return communities\n",
    "\n",
    "LV_community = detect_communities_louvain(G)"
   ]
  },
  {
   "cell_type": "code",
   "execution_count": 139,
   "id": "fe2c7efc",
   "metadata": {},
   "outputs": [],
   "source": [
    "from scipy.stats import hypergeom\n",
    "def identify_disease_modules(communities, disease_genes, total_genes):\n",
    "    putative_disease_modules = []\n",
    "    for community_id, genes in communities.items():\n",
    "        if 10 <= len(genes) <= 1000:\n",
    "            num_disease_genes_in_community = len(set(genes) & set(disease_genes))\n",
    "            # Ensure all arguments are integers\n",
    "            total_genes_int = int(total_genes)\n",
    "            num_disease_genes_int = int(len(disease_genes))\n",
    "            num_genes_in_community = int(len(genes))\n",
    "            num_disease_genes_in_community_int = int(num_disease_genes_in_community)\n",
    "\n",
    "            p_value = hypergeom.sf(num_disease_genes_in_community_int - 1, total_genes_int, num_disease_genes_int, num_genes_in_community)\n",
    "#             print(p_value)\n",
    "#             print(num_disease_genes_in_community)\n",
    "            if p_value < 0.05:  # Assuming a significance level of 0.05\n",
    "                putative_disease_modules.append((community_id, genes, num_disease_genes_in_community_int))\n",
    "    return putative_disease_modules\n"
   ]
  },
  {
   "cell_type": "code",
   "execution_count": 140,
   "id": "95acd813",
   "metadata": {},
   "outputs": [
    {
     "data": {
      "text/plain": [
       "[]"
      ]
     },
     "execution_count": 140,
     "metadata": {},
     "output_type": "execute_result"
    }
   ],
   "source": [
    "identify_disease_modules(LV_community, gda_df.Gene,len(list(G.nodes())))\n"
   ]
  }
 ],
 "metadata": {
  "kernelspec": {
   "display_name": "Python 3 (ipykernel)",
   "language": "python",
   "name": "python3"
  },
  "language_info": {
   "codemirror_mode": {
    "name": "ipython",
    "version": 3
   },
   "file_extension": ".py",
   "mimetype": "text/x-python",
   "name": "python",
   "nbconvert_exporter": "python",
   "pygments_lexer": "ipython3",
   "version": "3.10.4"
  }
 },
 "nbformat": 4,
 "nbformat_minor": 5
}
